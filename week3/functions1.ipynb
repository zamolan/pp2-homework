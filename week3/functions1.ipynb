{
 "cells": [
  {
   "cell_type": "code",
   "execution_count": null,
   "metadata": {},
   "outputs": [],
   "source": [
    "#1\n",
    "def to_ounces(g):\n",
    "    return(28.3495231 * g)\n",
    "\n",
    "grams = int(input())\n",
    "ounces = to_ounces(grams)\n",
    "print(ounces)"
   ]
  },
  {
   "cell_type": "code",
   "execution_count": null,
   "metadata": {},
   "outputs": [],
   "source": [
    "#2\n",
    "def to_centigrade(f):\n",
    "    return((5 / 9) * (f - 32))\n",
    "\n",
    "fahrenheit = int(input())\n",
    "centigrade = to_centigrade(fahrenheit)\n",
    "print(centigrade)"
   ]
  },
  {
   "cell_type": "code",
   "execution_count": null,
   "metadata": {},
   "outputs": [],
   "source": [
    "#3\n",
    "def solve(numheads, numlegs):\n",
    "    for i in range(numheads + 1):\n",
    "        chic = i\n",
    "        rab = numheads - i\n",
    "        if(2 * chic + 4 * rab == numlegs):\n",
    "            return chic, rab \n",
    "\n",
    "heads, legs = 35, 94\n",
    "animals = solve(heads, legs)\n",
    "print('chickens: ', animals[0])\n",
    "print('rabbits: ', animals[1])\n"
   ]
  },
  {
   "cell_type": "code",
   "execution_count": null,
   "metadata": {},
   "outputs": [],
   "source": [
    "#4\n",
    "def filter_prime(num):\n",
    "    prime = []\n",
    "    for x in num:\n",
    "        cnt = 0\n",
    "        for y in range(x):\n",
    "            if x % (y + 1) == 0:\n",
    "                cnt += 1\n",
    "        if cnt == 2 and x > 2:\n",
    "            prime.append(x)\n",
    "\n",
    "    return(prime)\n",
    "\n",
    "num = input().split()\n",
    "\n",
    "lnum = []\n",
    "for x in num:\n",
    "    lnum.append(int(x))\n",
    "\n",
    "prime = filter_prime(lnum)\n",
    "\n",
    "print(*prime)"
   ]
  },
  {
   "cell_type": "code",
   "execution_count": null,
   "metadata": {},
   "outputs": [],
   "source": [
    "#5\n",
    "def all_permutations(s):\n",
    "    result = [\"\"]\n",
    "    for char in s:\n",
    "        new_perms = []\n",
    "        for perm in result:\n",
    "            for i in range(len(perm) + 1):\n",
    "                new_perms.append(perm[:i] + char + perm[i:])\n",
    "        result = new_perms\n",
    "    return result\n",
    "\n",
    "s = input()\n",
    "permutations = all_permutations(s)\n",
    "print(*permutations)"
   ]
  },
  {
   "cell_type": "code",
   "execution_count": null,
   "metadata": {},
   "outputs": [],
   "source": [
    "#6\n",
    "def return_s(s):\n",
    "    rs = []\n",
    "    for i in range(len(s) - 1, -1, -1):\n",
    "        rs.append(s[i])\n",
    "    return rs\n",
    "\n",
    "str = input().split()\n",
    "reversed_str = return_s(str)\n",
    "print(*reversed_str)"
   ]
  },
  {
   "cell_type": "code",
   "execution_count": null,
   "metadata": {},
   "outputs": [],
   "source": [
    "#7\n",
    "def has_33(nums):\n",
    "    flag = False\n",
    "    for i in range(1, len(nums)):\n",
    "        if(nums[i-1] == '3' and nums[i] == '3'):\n",
    "            flag = True\n",
    "    if(flag):\n",
    "        print('True')\n",
    "    else:\n",
    "        print('False')\n",
    "\n",
    "numbers = input().split()\n",
    "has_33(numbers)\n"
   ]
  },
  {
   "cell_type": "code",
   "execution_count": null,
   "metadata": {},
   "outputs": [],
   "source": [
    "#8\n",
    "def spy_game(nums):\n",
    "    for i in range(len(nums)):\n",
    "        if(nums[i] == '0'):\n",
    "            for j in range(i+1, len(nums)):\n",
    "                if(nums[j] == '0'):\n",
    "                    for k in range(j+1, len(nums)):\n",
    "                        if(nums[k] == '7'):\n",
    "                            return True\n",
    "    return False\n",
    "\n",
    "numbers = input().split()\n",
    "if(spy_game(numbers)):\n",
    "    print(True)\n",
    "else:\n",
    "    print(False)"
   ]
  },
  {
   "cell_type": "code",
   "execution_count": null,
   "metadata": {},
   "outputs": [],
   "source": [
    "#9\n",
    "import math\n",
    "def volume(r):\n",
    "    vol = (4 * math.pi * (r**3)) / 3\n",
    "    return vol\n",
    "\n",
    "radius = int(input())\n",
    "print(volume(radius))"
   ]
  },
  {
   "cell_type": "code",
   "execution_count": null,
   "metadata": {},
   "outputs": [],
   "source": [
    "#10\n",
    "def unique(el):\n",
    "    uniq = []\n",
    "    for i in el:\n",
    "        if i not in uniq:\n",
    "            uniq.append(i)\n",
    "    return uniq\n",
    "\n",
    "elements = input().split()\n",
    "un_el = unique(elements)\n",
    "print(*un_el)"
   ]
  },
  {
   "cell_type": "code",
   "execution_count": null,
   "metadata": {},
   "outputs": [],
   "source": [
    "#11\n",
    "def is_palindrome(word):\n",
    "    flag = True\n",
    "    for i in range(len(word) // 2):\n",
    "        if(word[i] != word[len(word)-i-1]):\n",
    "            flag = False\n",
    "    if(flag):\n",
    "        print(word, \"- palindrome\")\n",
    "    else:\n",
    "        print(word, '- not a palindrome')\n",
    "\n",
    "word = input()\n",
    "is_palindrome(word)"
   ]
  },
  {
   "cell_type": "code",
   "execution_count": null,
   "metadata": {},
   "outputs": [],
   "source": [
    "#12\n",
    "def histogram(nums):\n",
    "    for i in range(len(nums)):\n",
    "        print('*' * int(nums[i]))\n",
    "\n",
    "numbers = input().split()\n",
    "histogram(numbers)"
   ]
  },
  {
   "cell_type": "code",
   "execution_count": null,
   "metadata": {},
   "outputs": [],
   "source": [
    "#13\n",
    "import random\n",
    "name = input('Hello! What is your name?')\n",
    "num = random.randint(1, 20)\n",
    "print('Well, ', name, ', I am thinking of a number between 1 and 20.\\nTake a guess.')\n",
    "user_num = int(input())\n",
    "if(user_num == num):\n",
    "    print('Good job, ', name, '! You guessed my number in 1 guess!')\n",
    "else:\n",
    "    cnt = 1\n",
    "    while(user_num != num):\n",
    "        cnt += 1\n",
    "        if(user_num < num):\n",
    "            print('Your guess is too low.\\nTake a guess.')\n",
    "        if(user_num > num):\n",
    "            print('Your guess is too high.\\nTake a guess.')\n",
    "        user_num = int(input())\n",
    "        if(user_num == num):\n",
    "            print('Good job, ', name, '! You guessed my number in ', cnt, ' guesses!')\n"
   ]
  }
 ],
 "metadata": {
  "kernelspec": {
   "display_name": "Python 3",
   "language": "python",
   "name": "python3"
  },
  "language_info": {
   "codemirror_mode": {
    "name": "ipython",
    "version": 3
   },
   "file_extension": ".py",
   "mimetype": "text/x-python",
   "name": "python",
   "nbconvert_exporter": "python",
   "pygments_lexer": "ipython3",
   "version": "3.13.0"
  }
 },
 "nbformat": 4,
 "nbformat_minor": 2
}
